{
 "cells": [
  {
   "cell_type": "code",
   "execution_count": 1,
   "id": "65df5e77",
   "metadata": {
    "ExecuteTime": {
     "end_time": "2023-06-13T19:20:11.409500Z",
     "start_time": "2023-06-13T19:15:56.931563Z"
    }
   },
   "outputs": [
    {
     "name": "stdout",
     "output_type": "stream",
     "text": [
      " * Serving Flask app \"__main__\" (lazy loading)\n",
      " * Environment: production\n",
      "\u001b[31m   WARNING: This is a development server. Do not use it in a production deployment.\u001b[0m\n",
      "\u001b[2m   Use a production WSGI server instead.\u001b[0m\n",
      " * Debug mode: on\n"
     ]
    },
    {
     "name": "stderr",
     "output_type": "stream",
     "text": [
      " * Running on http://127.0.0.1:8000/ (Press CTRL+C to quit)\n",
      "127.0.0.1 - - [13/Jun/2023 21:19:33] \"GET / HTTP/1.1\" 200 -\n",
      "127.0.0.1 - - [13/Jun/2023 21:19:34] \"GET /favicon.ico HTTP/1.1\" 404 -\n"
     ]
    },
    {
     "name": "stdout",
     "output_type": "stream",
     "text": [
      "1/1 [==============================] - 5s 5s/step\n"
     ]
    },
    {
     "name": "stderr",
     "output_type": "stream",
     "text": [
      "127.0.0.1 - - [13/Jun/2023 21:19:55] \"POST /predict HTTP/1.1\" 200 -\n",
      "127.0.0.1 - - [13/Jun/2023 21:19:56] \"GET /static/images/0a1076183736.png HTTP/1.1\" 200 -\n"
     ]
    }
   ],
   "source": [
    "from __future__ import division, print_function\n",
    "import sys\n",
    "import os\n",
    "import glob\n",
    "import re\n",
    "import h5py\n",
    "import numpy as np\n",
    "from tensorflow.keras.models import Sequential\n",
    "from keras.models import load_model\n",
    "from keras.preprocessing import image\n",
    "from flask import Flask, render_template, request\n",
    "from tensorflow.keras.models import load_model\n",
    "import numpy as np\n",
    "from tensorflow.keras.preprocessing.image import load_img\n",
    "from tensorflow.keras.preprocessing import image\n",
    "from tensorflow.keras.applications.vgg16 import preprocess_input\n",
    "from flask import Flask ,redirect,url_for,request,render_template\n",
    "from werkzeug.utils import secure_filename\n",
    "from gevent.pywsgi import WSGIServer\n",
    "from werkzeug.serving import run_simple\n",
    "from werkzeug.wrappers import Request, Response\n",
    "from PIL import Image\n",
    "\n",
    "app = Flask(__name__)\n",
    "model = load_model('my_model (1).h5')\n",
    "target_img = os.path.join(os.getcwd() , 'static/images')\n",
    "\n",
    "@app.route('/')\n",
    "def index_view():\n",
    "    return render_template('index.html')\n",
    "\n",
    "#Allow files with extension png, jpg and jpeg\n",
    "ALLOWED_EXT = set(['jpg' , 'jpeg' , 'png'])\n",
    "def allowed_file(filename):\n",
    "    return '.' in filename and \\\n",
    "           filename.rsplit('.', 1)[1] in ALLOWED_EXT\n",
    "           \n",
    "# Function to load and prepare the image in right shape\n",
    "def read_image(filename):\n",
    "\n",
    "    img = load_img(filename, target_size=(260, 260))\n",
    "    x = image.img_to_array(img)\n",
    "    x = np.expand_dims(x, axis=0)\n",
    "    x = preprocess_input(x)\n",
    "    return x\n",
    "\n",
    "@app.route('/predict',methods=['GET','POST'])\n",
    "def predict():\n",
    "    if request.method == 'POST':\n",
    "        file = request.files['file']\n",
    "        if file and allowed_file(file.filename):\n",
    "            filename = file.filename\n",
    "            file_path = os.path.join('static/images', filename)\n",
    "            file.save(file_path)\n",
    "            img = read_image(file_path)\n",
    "            class_prediction=model.predict(img) \n",
    "            classes_x=np.argmax(class_prediction,axis=1)\n",
    "            if classes_x == 0:\n",
    "              y = \"normal\"\n",
    "            elif classes_x == 1:\n",
    "              y = \"mild\"\n",
    "            elif classes_x == 2:\n",
    "              y = \"moderate\"\n",
    "            elif classes_x == 3:\n",
    "              y = \"severe\"\n",
    "            else:\n",
    "              y = \"proliferativec\"\n",
    "            return render_template('index.html',y=y,prob=class_prediction, user_image = file_path)\n",
    "        else:\n",
    "            return \"Unable to read the file. Please check file extension\"\n",
    "if __name__ == '__main__':\n",
    "    app.run(debug=True,use_reloader=False, port=8000)"
   ]
  },
  {
   "cell_type": "code",
   "execution_count": null,
   "id": "1a1de6e9",
   "metadata": {},
   "outputs": [],
   "source": []
  }
 ],
 "metadata": {
  "kernelspec": {
   "display_name": "Python 3 (ipykernel)",
   "language": "python",
   "name": "python3"
  },
  "language_info": {
   "codemirror_mode": {
    "name": "ipython",
    "version": 3
   },
   "file_extension": ".py",
   "mimetype": "text/x-python",
   "name": "python",
   "nbconvert_exporter": "python",
   "pygments_lexer": "ipython3",
   "version": "3.9.7"
  },
  "latex_envs": {
   "LaTeX_envs_menu_present": true,
   "autoclose": false,
   "autocomplete": true,
   "bibliofile": "biblio.bib",
   "cite_by": "apalike",
   "current_citInitial": 1,
   "eqLabelWithNumbers": true,
   "eqNumInitial": 1,
   "hotkeys": {
    "equation": "Ctrl-E",
    "itemize": "Ctrl-I"
   },
   "labels_anchors": false,
   "latex_user_defs": false,
   "report_style_numbering": false,
   "user_envs_cfg": false
  }
 },
 "nbformat": 4,
 "nbformat_minor": 5
}
